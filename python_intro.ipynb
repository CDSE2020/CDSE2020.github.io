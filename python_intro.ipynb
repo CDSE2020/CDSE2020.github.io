{
 "cells": [
  {
   "cell_type": "markdown",
   "metadata": {},
   "source": [
    "# Introduction to Jupyter and Python"
   ]
  },
  {
   "cell_type": "markdown",
   "metadata": {},
   "source": [
    "## Jupyter \n",
    "\n",
    "* Jupyter Notebook and Jupyter Lab"
   ]
  },
  {
   "cell_type": "markdown",
   "metadata": {},
   "source": [
    "### Markdown cells\n",
    "For entering text."
   ]
  },
  {
   "cell_type": "markdown",
   "metadata": {},
   "source": [
    "what you type                   | what you get\n",
    ":------------------------------:|:-------------------:\n",
    "`**bold**`                      |  **bold**\n",
    "`*italic*`                      |  *italic*\n",
    "`$\\int x^2 + \\frac{1}{2}$`      |$\\int x^2 + \\frac{1}{2}$\n",
    "`[google](http://google.com)`   | [google](http://google.com)\n",
    "\n",
    "[Markdown Cheatsheet](https://github.com/adam-p/markdown-here/wiki/Markdown-Cheatsheet)"
   ]
  },
  {
   "cell_type": "markdown",
   "metadata": {},
   "source": [
    "### Code cells\n",
    "For entering code. \n",
    "\n",
    "-----"
   ]
  },
  {
   "cell_type": "markdown",
   "metadata": {},
   "source": [
    "## Python Basics"
   ]
  },
  {
   "cell_type": "markdown",
   "metadata": {},
   "source": [
    "* Numbers and arithmetic.\n",
    "* Variable assignment."
   ]
  },
  {
   "cell_type": "markdown",
   "metadata": {},
   "source": [
    "## Importing modules\n",
    "\n",
    "* [Python Standard Library](https://docs.python.org/3/library/)\n",
    "* [Anaconda Package List](https://docs.anaconda.com/anaconda/packages/pkg-docs/)"
   ]
  },
  {
   "cell_type": "markdown",
   "metadata": {},
   "source": [
    "## Text Strings\n",
    "\n",
    "* In either `'single'` or `\"double quotes\"`.\n",
    "* In ```` '''triplequotes''' ```` for multiline strings.\n",
    "\n",
    "**Basic operations:**\n",
    "\n",
    "* String concatenation\n",
    "* `f\"strings\"`\n",
    "\n",
    "**More string operations:**\n",
    "\n",
    "* `string.lower()`\n",
    "* `string.upper()`\n",
    "* `string.replace()`\n",
    "* `string.split()`"
   ]
  },
  {
   "cell_type": "markdown",
   "metadata": {},
   "source": [
    "## if/then/else"
   ]
  },
  {
   "cell_type": "markdown",
   "metadata": {},
   "source": [
    "``` python\n",
    "if condition:\n",
    "    do this \n",
    "    do this\n",
    "    do this\n",
    "else:\n",
    "    do that\n",
    "    do that \n",
    "\n",
    "```"
   ]
  },
  {
   "cell_type": "markdown",
   "metadata": {},
   "source": [
    "## Booleans\n",
    "\n",
    "`True`/`False`"
   ]
  },
  {
   "cell_type": "markdown",
   "metadata": {},
   "source": [
    "## Lists and `for` loops "
   ]
  },
  {
   "cell_type": "markdown",
   "metadata": {},
   "source": [
    "``` python\n",
    "if item in list_of_items:\n",
    "    do this \n",
    "    do this\n",
    "\n",
    "```\n",
    "**List:** ordered collection of arbitrary objects.\n",
    "\n",
    "```python\n",
    "mylist = [a, b, c, d, ...]\n",
    "```\n",
    "\n",
    "**List operations:**\n",
    "\n",
    "* indexing list elements\n",
    "* list concatenation\n",
    "* `mylist.append()`\n",
    "* `len(mylist)`"
   ]
  },
  {
   "cell_type": "markdown",
   "metadata": {},
   "source": [
    "## Lists slicing\n",
    "\n",
    "``` python\n",
    "mylist[start:stop]\n",
    "mylist[start:stop:step]\n",
    "```"
   ]
  },
  {
   "cell_type": "markdown",
   "metadata": {},
   "source": [
    "## List comprehensions\n",
    "\n",
    "``` python\n",
    "[f(x) for x in mylist]\n",
    "[f(x) for x in mylist if condition]\n",
    "```"
   ]
  },
  {
   "cell_type": "markdown",
   "metadata": {},
   "source": [
    "## Dictionaries"
   ]
  },
  {
   "cell_type": "markdown",
   "metadata": {},
   "source": [
    "**Dictionary:** collection of values indexed by keys.\n",
    "```python\n",
    "my_dictionary = {key1:value1, key2:value2, ...}\n",
    "```"
   ]
  },
  {
   "cell_type": "markdown",
   "metadata": {},
   "source": [
    "## Sets\n",
    "\n",
    "**Set:** unordered collections of non-repeating objects.\n",
    "```python\n",
    "my_set = {a, b, c, ...}\n",
    "```\n",
    "\n",
    "**Set operations:**\n",
    "\n",
    "* union `set_1 | set_2`\n",
    "* intersection `set_1 & set_2`\n",
    "* difference `set_1 - set_2`"
   ]
  },
  {
   "cell_type": "markdown",
   "metadata": {},
   "source": [
    "## Functions\n",
    "\n",
    "```python\n",
    "def foo(arg1 , arg2, ...):\n",
    "    do this \n",
    "    do this\n",
    "    return this\n",
    "```\n",
    "\n",
    "-----"
   ]
  },
  {
   "cell_type": "markdown",
   "metadata": {},
   "source": [
    "# Example: word counting"
   ]
  },
  {
   "cell_type": "markdown",
   "metadata": {},
   "source": [
    "```none\n",
    "https://git.io/JvokF\n",
    "```"
   ]
  }
 ],
 "metadata": {
  "kernelspec": {
   "display_name": "Python 3",
   "language": "python",
   "name": "python3"
  },
  "language_info": {
   "codemirror_mode": {
    "name": "ipython",
    "version": 3
   },
   "file_extension": ".py",
   "mimetype": "text/x-python",
   "name": "python",
   "nbconvert_exporter": "python",
   "pygments_lexer": "ipython3",
   "version": "3.7.3"
  }
 },
 "nbformat": 4,
 "nbformat_minor": 2
}
